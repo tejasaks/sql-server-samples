{
    "metadata": {
        "kernelspec": {
            "name": "SQL",
            "display_name": "SQL",
            "language": "sql"
        },
        "language_info": {
            "name": "sql",
            "version": ""
        }
    },
    "nbformat_minor": 2,
    "nbformat": 4,
    "cells": [
        {
            "cell_type": "markdown",
            "source": [
                "# User Creation for MSQL Spark Connector\r\n",
                "MSSQL Spark connector provides an efficient write SQLServer master instance and SQL Server data pool in Big Data Clusters. To transfer data to SQL Server the MSSQL Spark Connector requires the right credentials. This notebook explains creation of the user account the permissions for use in MSSQL Spark Connector.\r\n",
                "\r\n",
                "## What permissions does MSSQL Spark connector requires.\r\n",
                "The answer depends on the capability that's used. MSSQL Spark connector can read, write, create tables in SQL Server Master instance and Data Pools in SQL Server 2019 Big Data Clusters. For using the full set of functionality the user account needs to have permissions to read, write, create tables and external tables in data pools.\r\n",
                ""
            ],
            "metadata": {
                "azdata_cell_guid": "4d6539fc-aa99-4cd8-a9de-357e2d6424e2"
            }
        },
        {
            "cell_type": "code",
            "source": [
                "-- Start with creating a testdatabase. \r\n",
                "Create DATABASE connector_test_db"
            ],
            "metadata": {
                "azdata_cell_guid": "8fdf2f56-f89d-4bf9-81be-1dfb92631251"
            },
            "outputs": [
                {
                    "output_type": "display_data",
                    "data": {
                        "text/html": "Commands completed successfully."
                    },
                    "metadata": {}
                },
                {
                    "output_type": "display_data",
                    "data": {
                        "text/html": "Total execution time: 00:00:01.345"
                    },
                    "metadata": {}
                }
            ],
            "execution_count": 1
        },
        {
            "cell_type": "code",
            "source": [
                "Use connector_test_db;\n",
                "CREATE LOGIN connector_user  WITH PASSWORD ='password123!#' \n",
                "CREATE USER connector_user FROM LOGIN connector_user\n",
                "\n",
                "-- To create external tables in data pools\n",
                "grant alter any external data source to connector_user;\n",
                "\n",
                "-- To create external table\n",
                "grant create table to connector_user;\n",
                "grant alter any schema to connector_user;\n",
                "\n",
                "ALTER ROLE [db_datareader] ADD MEMBER connector_user\n",
                "ALTER ROLE [db_datawriter] ADD MEMBER connector_user"
            ],
            "metadata": {
                "azdata_cell_guid": "4dd976a3-1ed7-43d3-ad29-657fe1046fb3"
            },
            "outputs": [
                {
                    "output_type": "display_data",
                    "data": {
                        "text/html": "Commands completed successfully."
                    },
                    "metadata": {}
                },
                {
                    "output_type": "display_data",
                    "data": {
                        "text/html": "Total execution time: 00:00:00.087"
                    },
                    "metadata": {}
                }
            ],
            "execution_count": 2
        },
        {
            "cell_type": "code",
            "source": [
                "-- Add this user to a data pool user.\r\n",
                "Use connector_test_db;\r\n",
                "CREATE EXTERNAL DATA SOURCE connector_ds  WITH (LOCATION = 'sqldatapool://controller-svc/default');\r\n",
                "EXECUTE('USE connector_test_db; CREATE EXTERNAL TABLE [dummy3] ([number] int, [word] nvarchar(2048)) WITH (DATA_SOURCE = connector_ds, DISTRIBUTION = ROUND_ROBIN)')\r\n",
                "\r\n",
                ""
            ],
            "metadata": {
                "azdata_cell_guid": "0b06540d-0787-493d-aba6-83420200da14"
            },
            "outputs": [
                {
                    "output_type": "display_data",
                    "data": {
                        "text/html": "Commands completed successfully."
                    },
                    "metadata": {}
                },
                {
                    "output_type": "display_data",
                    "data": {
                        "text/html": "Total execution time: 00:00:04.496"
                    },
                    "metadata": {}
                }
            ],
            "execution_count": 3
        },
        {
            "cell_type": "code",
            "source": [
                "-- Create a login in data pools and Provide right permissions to this user\r\n",
                "EXECUTE( ' Use connector_test_db; CREATE LOGIN connector_user  WITH PASSWORD = ''password123!#'' ; ' )  AT  DATA_SOURCE connector_ds;\r\n",
                "EXECUTE( ' Use connector_test_db; CREATE USER  connector_user ; ALTER ROLE [db_datareader] ADD MEMBER connector_user;  ALTER ROLE [db_datawriter] ADD MEMBER connector_user ;')  AT  DATA_SOURCE connector_ds;"
            ],
            "metadata": {
                "azdata_cell_guid": "5079dfe9-22e3-4a8f-919b-c6219f5a901a"
            },
            "outputs": [
                {
                    "output_type": "display_data",
                    "data": {
                        "text/html": "Commands completed successfully."
                    },
                    "metadata": {}
                },
                {
                    "output_type": "display_data",
                    "data": {
                        "text/html": "Total execution time: 00:00:01.174"
                    },
                    "metadata": {}
                }
            ],
            "execution_count": 5
        }
    ]
}