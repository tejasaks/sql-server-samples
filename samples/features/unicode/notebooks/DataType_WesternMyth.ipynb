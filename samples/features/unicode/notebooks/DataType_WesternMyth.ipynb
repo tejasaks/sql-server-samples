{
    "metadata": {
        "kernelspec": {
            "name": "SQL",
            "display_name": "SQL",
            "language": "sql"
        },
        "language_info": {
            "name": "sql",
            "version": ""
        }
    },
    "nbformat_minor": 2,
    "nbformat": 4,
    "cells": [
        {
            "cell_type": "markdown",
            "source": [
                "# Data type sizes - a western myth"
            ],
            "metadata": {
                "azdata_cell_guid": "9e602698-2ef8-4fed-872f-5bad8c440600"
            }
        },
        {
            "cell_type": "markdown",
            "source": [
                "## Test Latin character strings with Latin collation\r\n",
                "\r\n",
                "**Note:** My server default is SQL_Latin1_General_CP1_CI_AS\r\n",
                "\r\n",
                "Set size limit of data types to be the same under Basic Multilingual Plane (BMP)\r\n",
                "Characters between 1-byte (ASCII) and 3-bytes (East Asian)"
            ],
            "metadata": {
                "azdata_cell_guid": "78fc4a30-52e8-407d-8807-04097ad12348"
            }
        },
        {
            "cell_type": "code",
            "source": [
                "DROP TABLE IF EXISTS t1;\r\n",
                "CREATE TABLE t1 (c1 varchar(24) COLLATE Latin1_General_100_CI_AI, \r\n",
                "\tc2 nvarchar(8) COLLATE Latin1_General_100_CI_AI);  \r\n",
                "INSERT INTO t1 VALUES (N'MyString', N'MyString')  \r\n",
                "SELECT LEN(c1) AS [varchar LEN],  \r\n",
                "\tDATALENGTH(c1) AS [varchar DATALENGTH], c1\r\n",
                "FROM t1;  \r\n",
                "SELECT LEN(c2) AS [nvarchar LEN], \r\n",
                "\tDATALENGTH(c2) AS [nvarchar DATALENGTH], c2 \r\n",
                "FROM t1;\r\n",
                "GO"
            ],
            "metadata": {
                "azdata_cell_guid": "4a7b199e-3117-4fcb-b149-776f4da6cf71"
            },
            "outputs": [
                {
                    "output_type": "display_data",
                    "data": {
                        "text/html": "(1 row affected)"
                    },
                    "metadata": {}
                },
                {
                    "output_type": "display_data",
                    "data": {
                        "text/html": "(1 row affected)"
                    },
                    "metadata": {}
                },
                {
                    "output_type": "display_data",
                    "data": {
                        "text/html": "(1 row affected)"
                    },
                    "metadata": {}
                },
                {
                    "output_type": "display_data",
                    "data": {
                        "text/html": "Total execution time: 00:00:00.068"
                    },
                    "metadata": {}
                },
                {
                    "output_type": "execute_result",
                    "metadata": {},
                    "execution_count": 15,
                    "data": {
                        "application/vnd.dataresource+json": {
                            "schema": {
                                "fields": [
                                    {
                                        "name": "varchar LEN"
                                    },
                                    {
                                        "name": "varchar DATALENGTH"
                                    },
                                    {
                                        "name": "c1"
                                    }
                                ]
                            },
                            "data": [
                                {
                                    "0": "8",
                                    "1": "8",
                                    "2": "MyString"
                                }
                            ]
                        },
                        "text/html": "<table><tr><th>varchar LEN</th><th>varchar DATALENGTH</th><th>c1</th></tr><tr><td>8</td><td>8</td><td>MyString</td></tr></table>"
                    }
                },
                {
                    "output_type": "execute_result",
                    "metadata": {},
                    "execution_count": 15,
                    "data": {
                        "application/vnd.dataresource+json": {
                            "schema": {
                                "fields": [
                                    {
                                        "name": "nvarchar LEN"
                                    },
                                    {
                                        "name": "nvarchar DATALENGTH"
                                    },
                                    {
                                        "name": "c2"
                                    }
                                ]
                            },
                            "data": [
                                {
                                    "0": "8",
                                    "1": "16",
                                    "2": "MyString"
                                }
                            ]
                        },
                        "text/html": "<table><tr><th>nvarchar LEN</th><th>nvarchar DATALENGTH</th><th>c2</th></tr><tr><td>8</td><td>16</td><td>MyString</td></tr></table>"
                    }
                }
            ],
            "execution_count": 15
        },
        {
            "cell_type": "markdown",
            "source": [
                "That's as expected. So what was I talking about?"
            ],
            "metadata": {
                "azdata_cell_guid": "8615ddba-64e7-4abc-9df6-ec5648f39788"
            }
        },
        {
            "cell_type": "markdown",
            "source": [
                "# Test Chinese character strings with Latin collation"
            ],
            "metadata": {
                "azdata_cell_guid": "4a85f77d-fd22-46a6-b7aa-5d6fca65dd99"
            }
        },
        {
            "cell_type": "code",
            "source": [
                "DROP TABLE IF EXISTS t1;\r\n",
                "CREATE TABLE t1 (c1 varchar(24) COLLATE Latin1_General_100_CI_AI, \r\n",
                "\tc2 nvarchar(8) COLLATE Latin1_General_100_CI_AI);  \r\n",
                "INSERT INTO t1 VALUES (N'敏捷的棕色狐狸跳', N'敏捷的棕色狐狸跳')  \r\n",
                "SELECT LEN(c1) AS [varchar LEN],  \r\n",
                "\tDATALENGTH(c1) AS [varchar DATALENGTH], c1\r\n",
                "FROM t1;  \r\n",
                "SELECT LEN(c2) AS [nvarchar LEN], \r\n",
                "\tDATALENGTH(c2) AS [nvarchar DATALENGTH], c2 \r\n",
                "FROM t1;\r\n",
                "GO"
            ],
            "metadata": {
                "azdata_cell_guid": "f5d3d422-588c-4cc9-9bbd-2664b392b0fb"
            },
            "outputs": [
                {
                    "output_type": "display_data",
                    "data": {
                        "text/html": "(1 row affected)"
                    },
                    "metadata": {}
                },
                {
                    "output_type": "display_data",
                    "data": {
                        "text/html": "(1 row affected)"
                    },
                    "metadata": {}
                },
                {
                    "output_type": "display_data",
                    "data": {
                        "text/html": "(1 row affected)"
                    },
                    "metadata": {}
                },
                {
                    "output_type": "display_data",
                    "data": {
                        "text/html": "Total execution time: 00:00:00.031"
                    },
                    "metadata": {}
                },
                {
                    "output_type": "execute_result",
                    "metadata": {},
                    "execution_count": 16,
                    "data": {
                        "application/vnd.dataresource+json": {
                            "schema": {
                                "fields": [
                                    {
                                        "name": "varchar LEN"
                                    },
                                    {
                                        "name": "varchar DATALENGTH"
                                    },
                                    {
                                        "name": "c1"
                                    }
                                ]
                            },
                            "data": [
                                {
                                    "0": "8",
                                    "1": "8",
                                    "2": "????????"
                                }
                            ]
                        },
                        "text/html": "<table><tr><th>varchar LEN</th><th>varchar DATALENGTH</th><th>c1</th></tr><tr><td>8</td><td>8</td><td>????????</td></tr></table>"
                    }
                },
                {
                    "output_type": "execute_result",
                    "metadata": {},
                    "execution_count": 16,
                    "data": {
                        "application/vnd.dataresource+json": {
                            "schema": {
                                "fields": [
                                    {
                                        "name": "nvarchar LEN"
                                    },
                                    {
                                        "name": "nvarchar DATALENGTH"
                                    },
                                    {
                                        "name": "c2"
                                    }
                                ]
                            },
                            "data": [
                                {
                                    "0": "8",
                                    "1": "16",
                                    "2": "敏捷的棕色狐狸跳"
                                }
                            ]
                        },
                        "text/html": "<table><tr><th>nvarchar LEN</th><th>nvarchar DATALENGTH</th><th>c2</th></tr><tr><td>8</td><td>16</td><td>敏捷的棕色狐狸跳</td></tr></table>"
                    }
                }
            ],
            "execution_count": 16
        },
        {
            "cell_type": "markdown",
            "source": [
                "uh-oh data loss on the varchar example. Why?\r\n",
                "\r\n",
                "varchar is bound to code page enconding, and these code points cannot be found in the Latin code page."
            ],
            "metadata": {
                "azdata_cell_guid": "d77295e2-75eb-487e-861e-ca1634b90740"
            }
        },
        {
            "cell_type": "code",
            "source": [
                "SELECT ASCII('敏' COLLATE Latin1_General_100_CI_AI), CHAR(63)\r\n",
                "SELECT ASCII('捷' COLLATE Latin1_General_100_CI_AI), CHAR(63)"
            ],
            "metadata": {
                "azdata_cell_guid": "9dd9bce0-c073-42ec-9faa-8ebc142fd025"
            },
            "outputs": [
                {
                    "output_type": "display_data",
                    "data": {
                        "text/html": "(1 row affected)"
                    },
                    "metadata": {}
                },
                {
                    "output_type": "display_data",
                    "data": {
                        "text/html": "(1 row affected)"
                    },
                    "metadata": {}
                },
                {
                    "output_type": "display_data",
                    "data": {
                        "text/html": "Total execution time: 00:00:00.046"
                    },
                    "metadata": {}
                },
                {
                    "output_type": "execute_result",
                    "metadata": {},
                    "execution_count": 3,
                    "data": {
                        "application/vnd.dataresource+json": {
                            "schema": {
                                "fields": [
                                    {
                                        "name": "(No column name)"
                                    },
                                    {
                                        "name": "(No column name)"
                                    }
                                ]
                            },
                            "data": [
                                {
                                    "0": "63",
                                    "1": "?"
                                }
                            ]
                        },
                        "text/html": "<table><tr><th>(No column name)</th><th>(No column name)</th></tr><tr><td>63</td><td>?</td></tr></table>"
                    }
                },
                {
                    "output_type": "execute_result",
                    "metadata": {},
                    "execution_count": 3,
                    "data": {
                        "application/vnd.dataresource+json": {
                            "schema": {
                                "fields": [
                                    {
                                        "name": "(No column name)"
                                    },
                                    {
                                        "name": "(No column name)"
                                    }
                                ]
                            },
                            "data": [
                                {
                                    "0": "63",
                                    "1": "?"
                                }
                            ]
                        },
                        "text/html": "<table><tr><th>(No column name)</th><th>(No column name)</th></tr><tr><td>63</td><td>?</td></tr></table>"
                    }
                }
            ],
            "execution_count": 3
        },
        {
            "cell_type": "markdown",
            "source": [
                "But why didn't it happen in the nvarchar example?\r\n",
                "\r\n",
                "These Chinese characters are double-byte and within the *Basic Multilingual Plane* (BMP)\r\n",
                "\r\n",
                "nvarchar with this non-SC collation encodes in UCS-2 (BMP), not the code page"
            ],
            "metadata": {
                "azdata_cell_guid": "75416bff-a350-4f27-9de5-7b407b59ac81"
            }
        },
        {
            "cell_type": "code",
            "source": [
                "SELECT UNICODE(N'敏' COLLATE Latin1_General_100_CI_AI), NCHAR(25935)\r\n",
                "SELECT UNICODE(N'捷' COLLATE Latin1_General_100_CI_AI), NCHAR(25463)"
            ],
            "metadata": {
                "azdata_cell_guid": "ffed888f-da51-4cad-a88e-b0ccf2a38f10"
            },
            "outputs": [
                {
                    "output_type": "display_data",
                    "data": {
                        "text/html": "(1 row affected)"
                    },
                    "metadata": {}
                },
                {
                    "output_type": "display_data",
                    "data": {
                        "text/html": "(1 row affected)"
                    },
                    "metadata": {}
                },
                {
                    "output_type": "display_data",
                    "data": {
                        "text/html": "Total execution time: 00:00:00.021"
                    },
                    "metadata": {}
                },
                {
                    "output_type": "execute_result",
                    "metadata": {},
                    "execution_count": 5,
                    "data": {
                        "application/vnd.dataresource+json": {
                            "schema": {
                                "fields": [
                                    {
                                        "name": "(No column name)"
                                    },
                                    {
                                        "name": "(No column name)"
                                    }
                                ]
                            },
                            "data": [
                                {
                                    "0": "25935",
                                    "1": "敏"
                                }
                            ]
                        },
                        "text/html": "<table><tr><th>(No column name)</th><th>(No column name)</th></tr><tr><td>25935</td><td>敏</td></tr></table>"
                    }
                },
                {
                    "output_type": "execute_result",
                    "metadata": {},
                    "execution_count": 5,
                    "data": {
                        "application/vnd.dataresource+json": {
                            "schema": {
                                "fields": [
                                    {
                                        "name": "(No column name)"
                                    },
                                    {
                                        "name": "(No column name)"
                                    }
                                ]
                            },
                            "data": [
                                {
                                    "0": "25463",
                                    "1": "捷"
                                }
                            ]
                        },
                        "text/html": "<table><tr><th>(No column name)</th><th>(No column name)</th></tr><tr><td>25463</td><td>捷</td></tr></table>"
                    }
                }
            ],
            "execution_count": 5
        },
        {
            "cell_type": "markdown",
            "source": [
                "Irrespective of collation now. With a Unicode capable data type, collation only sets linguistic algorithms (Compare = sort; Case sensitivity = Upper/Lowercase)"
            ],
            "metadata": {
                "azdata_cell_guid": "d6db32d2-033f-4800-a492-3494b65dbc36"
            }
        },
        {
            "cell_type": "code",
            "source": [
                "SELECT UNICODE(N'敏' COLLATE Chinese_PRC_90_CI_AI), NCHAR(25935)\r\n",
                "SELECT UNICODE(N'捷' COLLATE Chinese_PRC_90_CI_AI), NCHAR(25463)"
            ],
            "metadata": {
                "azdata_cell_guid": "ba6107ed-50d8-4e3f-8e59-3eb1cb56e983"
            },
            "outputs": [
                {
                    "output_type": "display_data",
                    "data": {
                        "text/html": "(1 row affected)"
                    },
                    "metadata": {}
                },
                {
                    "output_type": "display_data",
                    "data": {
                        "text/html": "(1 row affected)"
                    },
                    "metadata": {}
                },
                {
                    "output_type": "display_data",
                    "data": {
                        "text/html": "Total execution time: 00:00:00.039"
                    },
                    "metadata": {}
                },
                {
                    "output_type": "execute_result",
                    "metadata": {},
                    "execution_count": 9,
                    "data": {
                        "application/vnd.dataresource+json": {
                            "schema": {
                                "fields": [
                                    {
                                        "name": "(No column name)"
                                    },
                                    {
                                        "name": "(No column name)"
                                    }
                                ]
                            },
                            "data": [
                                {
                                    "0": "25935",
                                    "1": "敏"
                                }
                            ]
                        },
                        "text/html": "<table><tr><th>(No column name)</th><th>(No column name)</th></tr><tr><td>25935</td><td>敏</td></tr></table>"
                    }
                },
                {
                    "output_type": "execute_result",
                    "metadata": {},
                    "execution_count": 9,
                    "data": {
                        "application/vnd.dataresource+json": {
                            "schema": {
                                "fields": [
                                    {
                                        "name": "(No column name)"
                                    },
                                    {
                                        "name": "(No column name)"
                                    }
                                ]
                            },
                            "data": [
                                {
                                    "0": "25463",
                                    "1": "捷"
                                }
                            ]
                        },
                        "text/html": "<table><tr><th>(No column name)</th><th>(No column name)</th></tr><tr><td>25463</td><td>捷</td></tr></table>"
                    }
                }
            ],
            "execution_count": 9
        },
        {
            "cell_type": "markdown",
            "source": [
                "## Now test Chinese character strings with Chinese collation"
            ],
            "metadata": {
                "azdata_cell_guid": "041d9858-808d-4a6b-9bc7-302feddf4036"
            }
        },
        {
            "cell_type": "code",
            "source": [
                "DROP TABLE IF EXISTS t2;\r\n",
                "CREATE TABLE t2 (c1 varchar(24) COLLATE Chinese_Traditional_Stroke_Order_100_CI_AI, \r\n",
                "\tc2 nvarchar(8) COLLATE Chinese_Traditional_Stroke_Order_100_CI_AI);  \r\n",
                "INSERT INTO t2 VALUES (N'敏捷的棕色狐狸跳', N'敏捷的棕色狐狸跳')  \r\n",
                "SELECT LEN(c1) AS [varchar LEN],  \r\n",
                "\tDATALENGTH(c1) AS [varchar DATALENGTH], c1\r\n",
                "FROM t2;  \r\n",
                "SELECT LEN(c2) AS [nvarchar LEN], \r\n",
                "\tDATALENGTH(c2) AS [nvarchar DATALENGTH], c2 \r\n",
                "FROM t2;\r\n",
                "GO"
            ],
            "metadata": {
                "azdata_cell_guid": "d8fecb5c-9120-46b5-b34c-d75fc8664a80"
            },
            "outputs": [
                {
                    "output_type": "display_data",
                    "data": {
                        "text/html": "(1 row affected)"
                    },
                    "metadata": {}
                },
                {
                    "output_type": "display_data",
                    "data": {
                        "text/html": "(1 row affected)"
                    },
                    "metadata": {}
                },
                {
                    "output_type": "display_data",
                    "data": {
                        "text/html": "(1 row affected)"
                    },
                    "metadata": {}
                },
                {
                    "output_type": "display_data",
                    "data": {
                        "text/html": "Total execution time: 00:00:00.037"
                    },
                    "metadata": {}
                },
                {
                    "output_type": "execute_result",
                    "metadata": {},
                    "execution_count": 17,
                    "data": {
                        "application/vnd.dataresource+json": {
                            "schema": {
                                "fields": [
                                    {
                                        "name": "varchar LEN"
                                    },
                                    {
                                        "name": "varchar DATALENGTH"
                                    },
                                    {
                                        "name": "c1"
                                    }
                                ]
                            },
                            "data": [
                                {
                                    "0": "8",
                                    "1": "16",
                                    "2": "敏捷的棕色狐狸跳"
                                }
                            ]
                        },
                        "text/html": "<table><tr><th>varchar LEN</th><th>varchar DATALENGTH</th><th>c1</th></tr><tr><td>8</td><td>16</td><td>敏捷的棕色狐狸跳</td></tr></table>"
                    }
                },
                {
                    "output_type": "execute_result",
                    "metadata": {},
                    "execution_count": 17,
                    "data": {
                        "application/vnd.dataresource+json": {
                            "schema": {
                                "fields": [
                                    {
                                        "name": "nvarchar LEN"
                                    },
                                    {
                                        "name": "nvarchar DATALENGTH"
                                    },
                                    {
                                        "name": "c2"
                                    }
                                ]
                            },
                            "data": [
                                {
                                    "0": "8",
                                    "1": "16",
                                    "2": "敏捷的棕色狐狸跳"
                                }
                            ]
                        },
                        "text/html": "<table><tr><th>nvarchar LEN</th><th>nvarchar DATALENGTH</th><th>c2</th></tr><tr><td>8</td><td>16</td><td>敏捷的棕色狐狸跳</td></tr></table>"
                    }
                }
            ],
            "execution_count": 17
        },
        {
            "cell_type": "markdown",
            "source": [
                "Now the varchar example is correct. But there's 2 bytes per character?...\r\n",
                "\r\n",
                "**Myth buster:** code page defines string length for varchar. It's not always 1 byte per character. \r\n",
                "\r\n",
                "Wasn't East-Asian 3 bytes? Yes, on UTF-8, but under Chinese collation code page, they are encoded using 2 bytes just like UCS-2/UTF-16\r\n",
                ""
            ],
            "metadata": {
                "azdata_cell_guid": "0bb36f33-1fb1-499e-97a9-a071f5332eba"
            }
        },
        {
            "cell_type": "markdown",
            "source": [
                "## Test with Supplementary Characters (4 bytes)"
            ],
            "metadata": {
                "azdata_cell_guid": "cdc78270-6de2-4bb9-9c49-8ac7aae92b8b"
            }
        },
        {
            "cell_type": "code",
            "source": [
                "DROP TABLE IF EXISTS t2;\r\n",
                "CREATE TABLE t2 (c1 varchar(24) COLLATE Chinese_Traditional_Stroke_Order_100_CI_AI_SC, \r\n",
                "\tc2 nvarchar(8) COLLATE Chinese_Traditional_Stroke_Order_100_CI_AI_SC);  \r\n",
                "INSERT INTO t2 VALUES (N'👶👦👧👨👩👴👵👨', N'👶👦👧👨👩👴👵👨')  \r\n",
                "SELECT LEN(c1) AS [varchar LEN],  \r\n",
                "\tDATALENGTH(c1) AS [varchar DATALENGTH], c1\r\n",
                "FROM t2;  \r\n",
                "SELECT LEN(c2) AS [nvarchar LEN], \r\n",
                "\tDATALENGTH(c2) AS [nvarchar DATALENGTH], c2 \r\n",
                "FROM t2;\r\n",
                "GO"
            ],
            "metadata": {
                "azdata_cell_guid": "c8fa69ca-590b-414c-88eb-d4892816d324"
            },
            "outputs": [
                {
                    "output_type": "error",
                    "evalue": "Msg 2628, Level 16, State 1, Line 4\r\nString or binary data would be truncated in table 'master.dbo.t2', column 'c2'. Truncated value: '👶👦👧👨'.",
                    "ename": "",
                    "traceback": []
                },
                {
                    "output_type": "display_data",
                    "data": {
                        "text/html": "The statement has been terminated."
                    },
                    "metadata": {}
                },
                {
                    "output_type": "display_data",
                    "data": {
                        "text/html": "(0 rows affected)"
                    },
                    "metadata": {}
                },
                {
                    "output_type": "display_data",
                    "data": {
                        "text/html": "(0 rows affected)"
                    },
                    "metadata": {}
                },
                {
                    "output_type": "display_data",
                    "data": {
                        "text/html": "Total execution time: 00:00:00.038"
                    },
                    "metadata": {}
                },
                {
                    "output_type": "execute_result",
                    "metadata": {},
                    "execution_count": 20,
                    "data": {
                        "application/vnd.dataresource+json": {
                            "schema": {
                                "fields": [
                                    {
                                        "name": "varchar LEN"
                                    },
                                    {
                                        "name": "varchar DATALENGTH"
                                    },
                                    {
                                        "name": "c1"
                                    }
                                ]
                            },
                            "data": []
                        },
                        "text/html": "<table><tr><th>varchar LEN</th><th>varchar DATALENGTH</th><th>c1</th></tr></table>"
                    }
                },
                {
                    "output_type": "execute_result",
                    "metadata": {},
                    "execution_count": 20,
                    "data": {
                        "application/vnd.dataresource+json": {
                            "schema": {
                                "fields": [
                                    {
                                        "name": "nvarchar LEN"
                                    },
                                    {
                                        "name": "nvarchar DATALENGTH"
                                    },
                                    {
                                        "name": "c2"
                                    }
                                ]
                            },
                            "data": []
                        },
                        "text/html": "<table><tr><th>nvarchar LEN</th><th>nvarchar DATALENGTH</th><th>c2</th></tr></table>"
                    }
                }
            ],
            "execution_count": 20
        },
        {
            "cell_type": "markdown",
            "source": [
                "uh-oh, let's set the proper data type length"
            ],
            "metadata": {
                "azdata_cell_guid": "0c643441-2b73-4880-82d7-0b019c14416c"
            }
        },
        {
            "cell_type": "code",
            "source": [
                "DROP TABLE IF EXISTS t2;\r\n",
                "CREATE TABLE t2 (c1 varchar(24) COLLATE Chinese_Traditional_Stroke_Order_100_CI_AI_SC, \r\n",
                "\tc2 nvarchar(16) COLLATE Chinese_Traditional_Stroke_Order_100_CI_AI_SC);  \r\n",
                "INSERT INTO t2 VALUES (N'👶👦👧👨👩👴👵👨', N'👶👦👧👨👩👴👵👨')  \r\n",
                "SELECT LEN(c1) AS [varchar LEN],  \r\n",
                "\tDATALENGTH(c1) AS [varchar DATALENGTH], c1\r\n",
                "FROM t2;  \r\n",
                "SELECT LEN(c2) AS [nvarchar LEN], \r\n",
                "\tDATALENGTH(c2) AS [nvarchar DATALENGTH], c2 \r\n",
                "FROM t2;\r\n",
                "GO"
            ],
            "metadata": {
                "azdata_cell_guid": "ba341c74-d2ca-4477-82f2-0c39bcc38af7"
            },
            "outputs": [
                {
                    "output_type": "display_data",
                    "data": {
                        "text/html": "(1 row affected)"
                    },
                    "metadata": {}
                },
                {
                    "output_type": "display_data",
                    "data": {
                        "text/html": "(1 row affected)"
                    },
                    "metadata": {}
                },
                {
                    "output_type": "display_data",
                    "data": {
                        "text/html": "(1 row affected)"
                    },
                    "metadata": {}
                },
                {
                    "output_type": "display_data",
                    "data": {
                        "text/html": "Total execution time: 00:00:00.029"
                    },
                    "metadata": {}
                },
                {
                    "output_type": "execute_result",
                    "metadata": {},
                    "execution_count": 21,
                    "data": {
                        "application/vnd.dataresource+json": {
                            "schema": {
                                "fields": [
                                    {
                                        "name": "varchar LEN"
                                    },
                                    {
                                        "name": "varchar DATALENGTH"
                                    },
                                    {
                                        "name": "c1"
                                    }
                                ]
                            },
                            "data": [
                                {
                                    "0": "16",
                                    "1": "16",
                                    "2": "????????????????"
                                }
                            ]
                        },
                        "text/html": "<table><tr><th>varchar LEN</th><th>varchar DATALENGTH</th><th>c1</th></tr><tr><td>16</td><td>16</td><td>????????????????</td></tr></table>"
                    }
                },
                {
                    "output_type": "execute_result",
                    "metadata": {},
                    "execution_count": 21,
                    "data": {
                        "application/vnd.dataresource+json": {
                            "schema": {
                                "fields": [
                                    {
                                        "name": "nvarchar LEN"
                                    },
                                    {
                                        "name": "nvarchar DATALENGTH"
                                    },
                                    {
                                        "name": "c2"
                                    }
                                ]
                            },
                            "data": [
                                {
                                    "0": "8",
                                    "1": "32",
                                    "2": "👶👦👧👨👩👴👵👨"
                                }
                            ]
                        },
                        "text/html": "<table><tr><th>nvarchar LEN</th><th>nvarchar DATALENGTH</th><th>c2</th></tr><tr><td>8</td><td>32</td><td>👶👦👧👨👩👴👵👨</td></tr></table>"
                    }
                }
            ],
            "execution_count": 21
        },
        {
            "cell_type": "markdown",
            "source": [
                "\r\n",
                "Varchar still doesn't encode? "
            ],
            "metadata": {
                "azdata_cell_guid": "d062a6e7-2a91-48d4-b81b-0bfb530df450"
            }
        },
        {
            "cell_type": "code",
            "source": [
                "DROP TABLE IF EXISTS t2;\r\n",
                "CREATE TABLE t2 (c1 varchar(48) COLLATE Chinese_Traditional_Stroke_Order_100_CI_AI_SC_UTF8, \r\n",
                "\tc2 nvarchar(16) COLLATE Chinese_Traditional_Stroke_Order_100_CI_AI_SC);  \r\n",
                "INSERT INTO t2 VALUES (N'👶👦👧👨👩👴👵👨', N'👶👦👧👨👩👴👵👨')  \r\n",
                "SELECT LEN(c1) AS [varchar LEN],  \r\n",
                "\tDATALENGTH(c1) AS [varchar DATALENGTH], c1\r\n",
                "FROM t2;  \r\n",
                "SELECT LEN(c2) AS [nvarchar LEN], \r\n",
                "\tDATALENGTH(c2) AS [nvarchar DATALENGTH], c2 \r\n",
                "FROM t2;\r\n",
                "GO"
            ],
            "metadata": {
                "azdata_cell_guid": "d8082437-485c-4c9d-84ca-16acd6e63849"
            },
            "outputs": [
                {
                    "output_type": "display_data",
                    "data": {
                        "text/html": "(1 row affected)"
                    },
                    "metadata": {}
                },
                {
                    "output_type": "display_data",
                    "data": {
                        "text/html": "(1 row affected)"
                    },
                    "metadata": {}
                },
                {
                    "output_type": "display_data",
                    "data": {
                        "text/html": "(1 row affected)"
                    },
                    "metadata": {}
                },
                {
                    "output_type": "display_data",
                    "data": {
                        "text/html": "Total execution time: 00:00:00.071"
                    },
                    "metadata": {}
                },
                {
                    "output_type": "execute_result",
                    "metadata": {},
                    "execution_count": 22,
                    "data": {
                        "application/vnd.dataresource+json": {
                            "schema": {
                                "fields": [
                                    {
                                        "name": "varchar LEN"
                                    },
                                    {
                                        "name": "varchar DATALENGTH"
                                    },
                                    {
                                        "name": "c1"
                                    }
                                ]
                            },
                            "data": [
                                {
                                    "0": "8",
                                    "1": "32",
                                    "2": "👶👦👧👨👩👴👵👨"
                                }
                            ]
                        },
                        "text/html": "<table><tr><th>varchar LEN</th><th>varchar DATALENGTH</th><th>c1</th></tr><tr><td>8</td><td>32</td><td>👶👦👧👨👩👴👵👨</td></tr></table>"
                    }
                },
                {
                    "output_type": "execute_result",
                    "metadata": {},
                    "execution_count": 22,
                    "data": {
                        "application/vnd.dataresource+json": {
                            "schema": {
                                "fields": [
                                    {
                                        "name": "nvarchar LEN"
                                    },
                                    {
                                        "name": "nvarchar DATALENGTH"
                                    },
                                    {
                                        "name": "c2"
                                    }
                                ]
                            },
                            "data": [
                                {
                                    "0": "8",
                                    "1": "32",
                                    "2": "👶👦👧👨👩👴👵👨"
                                }
                            ]
                        },
                        "text/html": "<table><tr><th>nvarchar LEN</th><th>nvarchar DATALENGTH</th><th>c2</th></tr><tr><td>8</td><td>32</td><td>👶👦👧👨👩👴👵👨</td></tr></table>"
                    }
                }
            ],
            "execution_count": 22
        },
        {
            "cell_type": "markdown",
            "source": [
                "Finally!\r\n",
                "\r\n",
                "What if I needed all these in one database? Easy, I could just use nvarchar."
            ],
            "metadata": {
                "azdata_cell_guid": "544ee63a-67fa-4b24-b974-4fa4e809949c"
            }
        },
        {
            "cell_type": "code",
            "source": [
                "DROP TABLE IF EXISTS t3;\r\n",
                "CREATE TABLE t3 (c1 nvarchar(110) COLLATE Latin1_General_100_CI_AI_SC);  \r\n",
                "INSERT INTO t3 VALUES (N'MyStringThequickbrownfoxjumpsoverthelazydogIsLatinAscii敏捷的棕色狐狸跳👶👦')  \r\n",
                "SELECT LEN(c1) AS [nvarchar UTF16 LEN],  \r\n",
                "\tDATALENGTH(c1) AS [nvarchar UTF16 DATALENGTH], c1\r\n",
                "FROM t3; \r\n",
                "GO"
            ],
            "metadata": {
                "azdata_cell_guid": "87e6c383-d9ab-48da-a4d7-f1cc0cf3aee3"
            },
            "outputs": [
                {
                    "output_type": "display_data",
                    "data": {
                        "text/html": "(1 row affected)"
                    },
                    "metadata": {}
                },
                {
                    "output_type": "display_data",
                    "data": {
                        "text/html": "(1 row affected)"
                    },
                    "metadata": {}
                },
                {
                    "output_type": "display_data",
                    "data": {
                        "text/html": "Total execution time: 00:00:00.086"
                    },
                    "metadata": {}
                },
                {
                    "output_type": "execute_result",
                    "metadata": {},
                    "execution_count": 23,
                    "data": {
                        "application/vnd.dataresource+json": {
                            "schema": {
                                "fields": [
                                    {
                                        "name": "nvarchar UTF16 LEN"
                                    },
                                    {
                                        "name": "nvarchar UTF16 DATALENGTH"
                                    },
                                    {
                                        "name": "c1"
                                    }
                                ]
                            },
                            "data": [
                                {
                                    "0": "65",
                                    "1": "134",
                                    "2": "MyStringThequickbrownfoxjumpsoverthelazydogIsLatinAscii敏捷的棕色狐狸跳👶👦"
                                }
                            ]
                        },
                        "text/html": "<table><tr><th>nvarchar UTF16 LEN</th><th>nvarchar UTF16 DATALENGTH</th><th>c1</th></tr><tr><td>65</td><td>134</td><td>MyStringThequickbrownfoxjumpsoverthelazydogIsLatinAscii敏捷的棕色狐狸跳👶👦</td></tr></table>"
                    }
                }
            ],
            "execution_count": 23
        },
        {
            "cell_type": "markdown",
            "source": [
                "But the majority of my data is set to Latin (ASCII)"
            ],
            "metadata": {
                "azdata_cell_guid": "808dc693-ca7b-4ee5-b71f-9cf9cbcef31f"
            }
        },
        {
            "cell_type": "code",
            "source": [
                "DROP TABLE IF EXISTS t4;\r\n",
                "CREATE TABLE t4 (c1 varchar(110) COLLATE Latin1_General_100_CI_AI_SC);  \r\n",
                "INSERT INTO t4 VALUES (N'MyStringThequickbrownfoxjumpsoverthelazydogIsLatinAscii敏捷的棕色狐狸跳👶👦')  \r\n",
                "SELECT LEN(c1) AS [varchar UTF16 LEN],  \r\n",
                "\tDATALENGTH(c1) AS [varchar UTF16 DATALENGTH], c1\r\n",
                "FROM t4; \r\n",
                "GO"
            ],
            "metadata": {
                "azdata_cell_guid": "8597dfb2-ec28-4c82-865a-ec7a8d01c663"
            },
            "outputs": [
                {
                    "output_type": "display_data",
                    "data": {
                        "text/html": "(1 row affected)"
                    },
                    "metadata": {}
                },
                {
                    "output_type": "display_data",
                    "data": {
                        "text/html": "(1 row affected)"
                    },
                    "metadata": {}
                },
                {
                    "output_type": "display_data",
                    "data": {
                        "text/html": "Total execution time: 00:00:00.013"
                    },
                    "metadata": {}
                },
                {
                    "output_type": "execute_result",
                    "metadata": {},
                    "execution_count": 24,
                    "data": {
                        "application/vnd.dataresource+json": {
                            "schema": {
                                "fields": [
                                    {
                                        "name": "varchar UTF16 LEN"
                                    },
                                    {
                                        "name": "varchar UTF16 DATALENGTH"
                                    },
                                    {
                                        "name": "c1"
                                    }
                                ]
                            },
                            "data": [
                                {
                                    "0": "67",
                                    "1": "67",
                                    "2": "MyStringThequickbrownfoxjumpsoverthelazydogIsLatinAscii????????????"
                                }
                            ]
                        },
                        "text/html": "<table><tr><th>varchar UTF16 LEN</th><th>varchar UTF16 DATALENGTH</th><th>c1</th></tr><tr><td>67</td><td>67</td><td>MyStringThequickbrownfoxjumpsoverthelazydogIsLatinAscii????????????</td></tr></table>"
                    }
                }
            ],
            "execution_count": 24
        },
        {
            "cell_type": "markdown",
            "source": [
                "Where are the savings?"
            ],
            "metadata": {
                "azdata_cell_guid": "e8d09b41-c69d-43de-8b67-43ad7e25bb03"
            }
        },
        {
            "cell_type": "code",
            "source": [
                "SELECT DATALENGTH(N'MyStringThequickbrownfoxjumpsoverthelazydogIsLatinAscii') AS [Latin_UTF16_2bytes], \r\n",
                "\tDATALENGTH(N'敏捷的棕色狐狸跳') AS [Chinese_UTF16_2bytes], \r\n",
                "\tDATALENGTH(N'👶👦') AS [SC_UTF16_4bytes]\r\n",
                "SELECT DATALENGTH('MyStringThequickbrownfoxjumpsoverthelazydogIsLatinAscii' COLLATE Latin1_General_100_CI_AI_SC_UTF8) AS [Latin_UTF8_1byte], \r\n",
                "\tDATALENGTH('敏捷的棕色狐狸跳' COLLATE Latin1_General_100_CI_AI_SC_UTF8) AS [Chinese_UTF8_3bytes], \r\n",
                "\tDATALENGTH('👶👦' COLLATE Latin1_General_100_CI_AI_SC_UTF8) AS [SC_UTF8_4bytes]\r\n",
                "GO"
            ],
            "metadata": {
                "azdata_cell_guid": "79351524-1cba-412a-8111-2cc93871612d"
            },
            "outputs": [
                {
                    "output_type": "display_data",
                    "data": {
                        "text/html": "(1 row affected)"
                    },
                    "metadata": {}
                },
                {
                    "output_type": "display_data",
                    "data": {
                        "text/html": "(1 row affected)"
                    },
                    "metadata": {}
                },
                {
                    "output_type": "display_data",
                    "data": {
                        "text/html": "Total execution time: 00:00:00.043"
                    },
                    "metadata": {}
                },
                {
                    "output_type": "execute_result",
                    "metadata": {},
                    "execution_count": 25,
                    "data": {
                        "application/vnd.dataresource+json": {
                            "schema": {
                                "fields": [
                                    {
                                        "name": "Latin_UTF16_2bytes"
                                    },
                                    {
                                        "name": "Chinese_UTF16_2bytes"
                                    },
                                    {
                                        "name": "SC_UTF16_4bytes"
                                    }
                                ]
                            },
                            "data": [
                                {
                                    "0": "110",
                                    "1": "16",
                                    "2": "8"
                                }
                            ]
                        },
                        "text/html": "<table><tr><th>Latin_UTF16_2bytes</th><th>Chinese_UTF16_2bytes</th><th>SC_UTF16_4bytes</th></tr><tr><td>110</td><td>16</td><td>8</td></tr></table>"
                    }
                },
                {
                    "output_type": "execute_result",
                    "metadata": {},
                    "execution_count": 25,
                    "data": {
                        "application/vnd.dataresource+json": {
                            "schema": {
                                "fields": [
                                    {
                                        "name": "Latin_UTF8_1byte"
                                    },
                                    {
                                        "name": "Chinese_UTF8_3bytes"
                                    },
                                    {
                                        "name": "SC_UTF8_4bytes"
                                    }
                                ]
                            },
                            "data": [
                                {
                                    "0": "55",
                                    "1": "8",
                                    "2": "4"
                                }
                            ]
                        },
                        "text/html": "<table><tr><th>Latin_UTF8_1byte</th><th>Chinese_UTF8_3bytes</th><th>SC_UTF8_4bytes</th></tr><tr><td>55</td><td>8</td><td>4</td></tr></table>"
                    }
                }
            ],
            "execution_count": 25
        }
    ]
}